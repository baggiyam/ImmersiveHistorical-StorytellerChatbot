{
 "cells": [
  {
   "cell_type": "markdown",
   "id": "25c07abc",
   "metadata": {},
   "source": [
    "# Global Imports\n"
   ]
  },
  {
   "cell_type": "code",
   "execution_count": 6,
   "id": "8b4bf1c0",
   "metadata": {},
   "outputs": [],
   "source": [
    "import os\n",
    "import json\n",
    "import logging\n",
    "import pandas as pd\n",
    "from typing import List\n",
    "from dotenv import load_dotenv\n",
    "import giskard\n",
    "from giskard import Model, Dataset, scan\n",
    "import sys\n",
    "import matplotlib.pyplot as plt\n",
    "import seaborn as sns\n",
    "from matplotlib.ticker import MaxNLocator\n",
    "sys.path.append(\"/Users/bshanmugam/Documents/FinalStory/ImmersiveHistorical-StorytellerChatbot\")\n",
    "from immersivestoryagent import ImmersiveStoryAgent, TTSManager\n",
    "\n"
   ]
  },
  {
   "cell_type": "code",
   "execution_count": 2,
   "id": "f2fb5432",
   "metadata": {},
   "outputs": [
    {
     "name": "stderr",
     "output_type": "stream",
     "text": [
      "/Users/bshanmugam/Documents/FinalStory/ImmersiveHistorical-StorytellerChatbot/myenv2/lib/python3.11/site-packages/tqdm/auto.py:21: TqdmWarning: IProgress not found. Please update jupyter and ipywidgets. See https://ipywidgets.readthedocs.io/en/stable/user_install.html\n",
      "  from .autonotebook import tqdm as notebook_tqdm\n"
     ]
    },
    {
     "name": "stdout",
     "output_type": "stream",
     "text": [
      "Agent initialized.\n"
     ]
    },
    {
     "name": "stderr",
     "output_type": "stream",
     "text": [
      "/Users/bshanmugam/Documents/FinalStory/ImmersiveHistorical-StorytellerChatbot/immersivestoryagent.py:118: LangChainDeprecationWarning: The class `LLMChain` was deprecated in LangChain 0.1.17 and will be removed in 1.0. Use :meth:`~RunnableSequence, e.g., `prompt | llm`` instead.\n",
      "  self.story_chain = LLMChain(llm=self.llm, prompt=self.story_prompt)\n"
     ]
    }
   ],
   "source": [
    "load_dotenv()\n",
    "agent = ImmersiveStoryAgent()\n",
    "print(\"Agent initialized.\")"
   ]
  },
  {
   "cell_type": "code",
   "execution_count": 3,
   "id": "12b5dca8",
   "metadata": {},
   "outputs": [],
   "source": [
    "\n",
    "logging.basicConfig(\n",
    "    level=logging.INFO,\n",
    "    format='%(asctime)s - %(levelname)s - %(message)s',\n",
    "    handlers=[\n",
    "        logging.FileHandler('storyteller_evaluation.log'),\n",
    "        logging.StreamHandler()\n",
    "    ]\n",
    ")\n",
    "logger = logging.getLogger(__name__)  \n",
    "\n",
    "logger.info(\"Logger successfully configured\")"
   ]
  },
  {
   "cell_type": "markdown",
   "id": "2dbd2f34",
   "metadata": {},
   "source": [
    " # Test Context Retrieval"
   ]
  },
  {
   "cell_type": "code",
   "execution_count": 7,
   "id": "ee374f70",
   "metadata": {},
   "outputs": [
    {
     "name": "stdout",
     "output_type": "stream",
     "text": [
      "Retrieved 5 context documents for location 'Great Pyramids':\n",
      "Document 1 Metadata: {'video_title': '9yD9GxzKd Q', 'score': 0.897122681}\n",
      "Content snippet: . Building awe inspiring monuments, temples and tombs. Demonstrating remarkably precise engineering. All to honor their pharaohs as living gods. Many were crowning achievements of the old kingdom. The...\n",
      "\n",
      "Document 2 Metadata: {'video_title': '9yD9GxzKd Q', 'score': 0.896917701}\n",
      "Content snippet: . Building awe inspiring monuments, temples and tombs. Demonstrating remarkably precise engineering. All to honor their pharaohs as living gods. Many were crowning achievements of the old kingdom. The...\n",
      "\n",
      "Document 3 Metadata: {'video_title': '9yD9GxzKd Q', 'score': 0.896765471}\n",
      "Content snippet: . Building awe inspiring monuments, temples and tombs. Demonstrating remarkably precise engineering. All to honor their pharaohs as living gods. Many were crowning achievements of the old kingdom. The...\n",
      "\n",
      "Document 4 Metadata: {'video_title': '9yD9GxzKd Q', 'score': 0.896765471}\n",
      "Content snippet: . Building awe inspiring monuments, temples and tombs. Demonstrating remarkably precise engineering. All to honor their pharaohs as living gods. Many were crowning achievements of the old kingdom. The...\n",
      "\n",
      "Document 5 Metadata: {'video_title': '9yD9GxzKd Q', 'score': 0.896765471}\n",
      "Content snippet: . Building awe inspiring monuments, temples and tombs. Demonstrating remarkably precise engineering. All to honor their pharaohs as living gods. Many were crowning achievements of the old kingdom. The...\n",
      "\n"
     ]
    }
   ],
   "source": [
    "# Step 4: Test context retrieval for a sample location\n",
    "sample_location = \"Great Pyramids\"\n",
    "\n",
    "docs = agent.retrieve_context(sample_location, top_k=5)\n",
    "\n",
    "print(f\"Retrieved {len(docs)} context documents for location '{sample_location}':\")\n",
    "for i, doc in enumerate(docs):\n",
    "    print(f\"Document {i+1} Metadata:\", doc.metadata)\n",
    "    print(f\"Content snippet: {doc.page_content[:200]}...\\n\")\n"
   ]
  },
  {
   "cell_type": "markdown",
   "id": "2318fe0e",
   "metadata": {},
   "source": [
    "# Test story Generation"
   ]
  },
  {
   "cell_type": "code",
   "execution_count": 8,
   "id": "7d5d24ff",
   "metadata": {},
   "outputs": [
    {
     "name": "stdout",
     "output_type": "stream",
     "text": [
      "\n",
      "📝 RAW STORY BEFORE VALIDATION:\n",
      " [Segue]: The series of battles that manifested brother against brother, however, brought this dazzling epoch to a tragic halt. Yet, even amidst the ruins, Greece's legacy echoed through the centuries. The question remains, though: how did these early settlers, these hunter-gatherers of the Stone Age, lay the foundation for such an illustrious civilization? Join me as we delve further into this fascinating journey through time.\n",
      "Generated Story JSON:\n",
      "\"[Segue]: The series of battles that manifested brother against brother, however, brought this dazzling epoch to a tragic halt. Yet, even amidst the ruins, Greece's legacy echoed through the centuries. The question remains, though: how did these early settlers, these hunter-gatherers of the Stone Age, lay the foundation for such an illustrious civilization? Join me as we delve further into this fascinating journey through time.\"\n"
     ]
    }
   ],
   "source": [
    "# Step 5: Generate immersive story for a location\n",
    "response = agent.generate_story_segment(\"Ancient Greece\")\n",
    "print(\"Generated Story JSON:\")\n",
    "print(json.dumps(response, indent=2))\n"
   ]
  },
  {
   "cell_type": "markdown",
   "id": "e90d162f",
   "metadata": {},
   "source": [
    "# Test Question Answering"
   ]
  },
  {
   "cell_type": "code",
   "execution_count": 11,
   "id": "14254b51",
   "metadata": {},
   "outputs": [
    {
     "name": "stdout",
     "output_type": "stream",
     "text": [
      "Question: What are the main features of Ancient Greece architecture?\n",
      "Answer: Ancient Greek architecture is renowned for its precision and beauty, as exemplified by the Parthenon. This iconic structure, built in 447 BC, is celebrated for its perfect form and geometry. The Greek system of columns and beams, fundamental to their architectural style, was later adopted by the Romans and influenced neoclassical architecture across Europe and North America.\n"
     ]
    }
   ],
   "source": [
    "# Step 6: Test question answering\n",
    "question = \"What are the main features of Ancient Greece architecture?\"\n",
    "answer = agent.answer_with_story(question)\n",
    "print(f\"Question: {question}\")\n",
    "print(f\"Answer: {answer}\")\n"
   ]
  },
  {
   "cell_type": "markdown",
   "id": "fc959929",
   "metadata": {},
   "source": [
    "# Test Follow-up Question Generation"
   ]
  },
  {
   "cell_type": "markdown",
   "id": "2dbdff80",
   "metadata": {},
   "source": [
    "# Save the Results "
   ]
  },
  {
   "cell_type": "code",
   "execution_count": 13,
   "id": "c0c213ec",
   "metadata": {},
   "outputs": [
    {
     "name": "stdout",
     "output_type": "stream",
     "text": [
      "Story output saved to story_output.json\n"
     ]
    }
   ],
   "source": [
    "# Step 9: Save results\n",
    "with open(\"story_output.json\", \"w\") as f:\n",
    "    json.dump(response, f, indent=2)\n",
    "print(\"Story output saved to story_output.json\")\n"
   ]
  }
 ],
 "metadata": {
  "kernelspec": {
   "display_name": "myenv2",
   "language": "python",
   "name": "python3"
  },
  "language_info": {
   "codemirror_mode": {
    "name": "ipython",
    "version": 3
   },
   "file_extension": ".py",
   "mimetype": "text/x-python",
   "name": "python",
   "nbconvert_exporter": "python",
   "pygments_lexer": "ipython3",
   "version": "3.11.13"
  }
 },
 "nbformat": 4,
 "nbformat_minor": 5
}
